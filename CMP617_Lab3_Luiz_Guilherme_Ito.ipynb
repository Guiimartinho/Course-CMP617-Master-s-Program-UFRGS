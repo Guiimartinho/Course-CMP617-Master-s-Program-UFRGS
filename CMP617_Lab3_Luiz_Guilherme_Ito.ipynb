{
  "nbformat": 4,
  "nbformat_minor": 0,
  "metadata": {
    "colab": {
      "provenance": []
    },
    "kernelspec": {
      "name": "python3",
      "display_name": "Python 3"
    },
    "language_info": {
      "name": "python"
    }
  },
  "cells": [
    {
      "cell_type": "markdown",
      "source": [
        "# CMP617 – Processamento de Linguagem Natural e Recuperação de Informações\n",
        "## Exercício Prático - Aula 3\n",
        "\n",
        "**Aluno:** Luiz Guilherme Martinho Sampaio Ito  \n",
        "**Matrícula:** 00336237\n",
        "\n",
        "**Questão sorteada:** 6 - Como o desbalanceamento das classes impacta o resultado da classificação?\n",
        "\n",
        "Neste experimento, vamos investigar o impacto que o desbalanceamento das classes tem sobre a performance de modelos de classificação, utilizando dados de texto. Iremos:\n",
        "\n",
        "1. Utilizar um dataset com classes desbalanceadas.\n",
        "2. Avaliar o desempenho de modelos de classificação em diferentes cenários de balanceamento.\n",
        "3. Analisar os resultados através de métricas como acurácia, precisão, recall, F1-score e matriz de confusão.\n",
        "4. Examinar instâncias mal classificadas para entender o comportamento do modelo.\n"
      ],
      "metadata": {
        "id": "WcCjp7RiMwJV"
      }
    },
    {
      "cell_type": "code",
      "source": [
        "!pip install scikit-learn pandas matplotlib seaborn nltk --quiet"
      ],
      "metadata": {
        "id": "xVa_8eP2NEhL"
      },
      "execution_count": 27,
      "outputs": []
    },
    {
      "cell_type": "code",
      "source": [
        "\"\"\"\n",
        "classification_dataset_loader.py\n",
        "\n",
        "This script loads a subset of the 20 Newsgroups dataset, vectorizes it using\n",
        "TF-IDF, and prepares it for classification tasks. It is meant for exploring\n",
        "the impact of class imbalance on text classification performance.\n",
        "\n",
        "Author: Luiz Guilherme Martinho Sampaio Ito\n",
        "Date: 2025-04-04\n",
        "\"\"\"\n",
        "\n",
        "from sklearn.datasets import fetch_20newsgroups\n",
        "from sklearn.feature_extraction.text import TfidfVectorizer\n",
        "from sklearn.model_selection import train_test_split\n",
        "from sklearn.naive_bayes import MultinomialNB\n",
        "from sklearn.metrics import classification_report, confusion_matrix\n",
        "import matplotlib.pyplot as plt\n",
        "import seaborn as sns\n",
        "import numpy as np\n",
        "import pandas as pd\n",
        "\n",
        "def load_dataset(categories):\n",
        "    \"\"\"Load and vectorize the 20 Newsgroups dataset.\n",
        "\n",
        "    Args:\n",
        "        categories (list): List of category names to load from the dataset.\n",
        "\n",
        "    Returns:\n",
        "        X (scipy.sparse matrix): TF-IDF vectorized feature matrix.\n",
        "        y (np.ndarray): Class labels.\n",
        "        newsgroups (sklearn.utils.Bunch): Original dataset object.\n",
        "    \"\"\"\n",
        "    newsgroups = fetch_20newsgroups(\n",
        "        subset='train',\n",
        "        categories=categories,\n",
        "        shuffle=True,\n",
        "        random_state=42\n",
        "    )\n",
        "\n",
        "    vectorizer = TfidfVectorizer(stop_words='english')\n",
        "    X = vectorizer.fit_transform(newsgroups.data)\n",
        "    y = newsgroups.target\n",
        "\n",
        "    return X, y, newsgroups\n",
        "\n",
        "\n",
        "# Load dataset with two categories (balanced at this point)\n",
        "categories = ['sci.space', 'talk.politics.misc']\n",
        "X, y, newsgroups = load_dataset(categories)\n"
      ],
      "metadata": {
        "id": "VTYjRLZkNNCl"
      },
      "execution_count": 28,
      "outputs": []
    },
    {
      "cell_type": "code",
      "source": [
        "def simulate_imbalance(X, y, minority_ratio=0.1, seed=42):\n",
        "    \"\"\"\n",
        "    Simulates class imbalance by downsampling the minority class.\n",
        "\n",
        "    Args:\n",
        "        X (scipy.sparse matrix): Feature matrix.\n",
        "        y (np.ndarray): Original class labels.\n",
        "        minority_ratio (float): Proportion of minority class to retain (default: 0.1).\n",
        "        seed (int): Random seed for reproducibility.\n",
        "\n",
        "    Returns:\n",
        "        X_imbalanced (scipy.sparse matrix): Feature matrix after downsampling.\n",
        "        y_imbalanced (np.ndarray): Labels after downsampling.\n",
        "        idx_combined (np.ndarray): Indices of the selected samples.\n",
        "    \"\"\"\n",
        "    # Identify class indices\n",
        "    idx_class0 = np.where(y == 0)[0]\n",
        "    idx_class1 = np.where(y == 1)[0]\n",
        "\n",
        "    # Downsample class 1\n",
        "    np.random.seed(seed)\n",
        "    size_class1 = int(minority_ratio * len(idx_class0))\n",
        "    idx_class1_downsampled = np.random.choice(idx_class1, size=size_class1, replace=False)\n",
        "\n",
        "    # Combine balanced + downsampled indices\n",
        "    idx_combined = np.concatenate([idx_class0, idx_class1_downsampled])\n",
        "\n",
        "    # Apply indexing\n",
        "    X_imbalanced = X[idx_combined]\n",
        "    y_imbalanced = y[idx_combined]\n",
        "\n",
        "    return X_imbalanced, y_imbalanced, idx_combined\n",
        "\n",
        "\n",
        "# Uso da função:\n",
        "X_imbalanced, y_imbalanced, idx_combined = simulate_imbalance(X, y)\n"
      ],
      "metadata": {
        "id": "7_Gio8eDNb5H"
      },
      "execution_count": 29,
      "outputs": []
    },
    {
      "cell_type": "code",
      "source": [
        "def train_and_evaluate_model(X, y, model=None, test_size=0.2, random_state=42, class_names=None):\n",
        "    \"\"\"\n",
        "    Trains a classification model and evaluates its performance.\n",
        "\n",
        "    Args:\n",
        "        X (scipy.sparse matrix or np.ndarray): Feature matrix.\n",
        "        y (np.ndarray): Class labels.\n",
        "        model (sklearn classifier, optional): A scikit-learn compatible model.\n",
        "            If None, defaults to MultinomialNB().\n",
        "        test_size (float): Proportion of the dataset to include in the test split.\n",
        "        random_state (int): Random seed for reproducibility.\n",
        "        class_names (list, optional): List of class names for display in confusion matrix.\n",
        "\n",
        "    Returns:\n",
        "        model: Trained classification model.\n",
        "        X_train, X_test, y_train, y_test, y_pred: Data splits and predictions for further analysis.\n",
        "    \"\"\"\n",
        "    if model is None:\n",
        "        model = MultinomialNB()\n",
        "\n",
        "    # Split data\n",
        "    X_train, X_test, y_train, y_test = train_test_split(\n",
        "        X, y, test_size=test_size, random_state=random_state\n",
        "    )\n",
        "\n",
        "    # Train model\n",
        "    model.fit(X_train, y_train)\n",
        "\n",
        "    # Predict\n",
        "    y_pred = model.predict(X_test)\n",
        "\n",
        "    # Classification report\n",
        "    print(\"=== Classification Report ===\")\n",
        "    print(classification_report(y_test, y_pred, target_names=class_names))\n",
        "\n",
        "    # Confusion matrix\n",
        "    cm = confusion_matrix(y_test, y_pred)\n",
        "    plt.figure(figsize=(6, 5))\n",
        "    sns.heatmap(cm, annot=True, fmt='d', cmap='Blues',\n",
        "                xticklabels=class_names, yticklabels=class_names)\n",
        "    plt.xlabel('Predicted')\n",
        "    plt.ylabel('True')\n",
        "    plt.title('Confusion Matrix')\n",
        "    plt.tight_layout()\n",
        "    plt.show()\n",
        "\n",
        "    return model, X_train, X_test, y_train, y_test, y_pred\n",
        "\n",
        "\n",
        "# Uso da função com o dataset desbalanceado\n",
        "model, X_train, X_test, y_train, y_test, y_pred = train_and_evaluate_model(\n",
        "    X_imbalanced, y_imbalanced,\n",
        "    model=MultinomialNB(),\n",
        "    class_names=newsgroups.target_names\n",
        ")"
      ],
      "metadata": {
        "colab": {
          "base_uri": "https://localhost:8080/",
          "height": 805
        },
        "id": "K_PvMTK3NdwE",
        "outputId": "c03bc111-1e14-491d-ac0c-9df52ace11ac"
      },
      "execution_count": 30,
      "outputs": [
        {
          "output_type": "stream",
          "name": "stdout",
          "text": [
            "=== Classification Report ===\n",
            "                    precision    recall  f1-score   support\n",
            "\n",
            "         sci.space       0.89      1.00      0.94       116\n",
            "talk.politics.misc       0.00      0.00      0.00        15\n",
            "\n",
            "          accuracy                           0.89       131\n",
            "         macro avg       0.44      0.50      0.47       131\n",
            "      weighted avg       0.78      0.89      0.83       131\n",
            "\n"
          ]
        },
        {
          "output_type": "stream",
          "name": "stderr",
          "text": [
            "/usr/local/lib/python3.11/dist-packages/sklearn/metrics/_classification.py:1565: UndefinedMetricWarning: Precision is ill-defined and being set to 0.0 in labels with no predicted samples. Use `zero_division` parameter to control this behavior.\n",
            "  _warn_prf(average, modifier, f\"{metric.capitalize()} is\", len(result))\n",
            "/usr/local/lib/python3.11/dist-packages/sklearn/metrics/_classification.py:1565: UndefinedMetricWarning: Precision is ill-defined and being set to 0.0 in labels with no predicted samples. Use `zero_division` parameter to control this behavior.\n",
            "  _warn_prf(average, modifier, f\"{metric.capitalize()} is\", len(result))\n",
            "/usr/local/lib/python3.11/dist-packages/sklearn/metrics/_classification.py:1565: UndefinedMetricWarning: Precision is ill-defined and being set to 0.0 in labels with no predicted samples. Use `zero_division` parameter to control this behavior.\n",
            "  _warn_prf(average, modifier, f\"{metric.capitalize()} is\", len(result))\n"
          ]
        },
        {
          "output_type": "display_data",
          "data": {
            "text/plain": [
              "<Figure size 600x500 with 2 Axes>"
            ],
            "image/png": "[encoded data removed]"
          },
          "metadata": {}
        }
      ]
    },
    {
      "cell_type": "code",
      "source": [
        "def show_misclassified_examples(X_raw, y_test, y_pred, idx_combined, class_names, max_examples=5):\n",
        "    \"\"\"\n",
        "    Displays examples of misclassified texts from the test set.\n",
        "\n",
        "    Args:\n",
        "        X_raw (list of str): Original text data (not vectorized).\n",
        "        y_test (np.ndarray): True labels of the test set.\n",
        "        y_pred (np.ndarray): Predicted labels from the classifier.\n",
        "        idx_combined (np.ndarray): Index mapping from the imbalanced set to the original dataset.\n",
        "        class_names (list of str): List of class names corresponding to label indices.\n",
        "        max_examples (int): Maximum number of misclassified examples to display.\n",
        "\n",
        "    Returns:\n",
        "        None\n",
        "    \"\"\"\n",
        "    # Find indices of misclassified samples\n",
        "    misclassified_idx = np.where(y_test != y_pred)[0]\n",
        "\n",
        "    print(f\"=== Showing up to {max_examples} misclassified examples ===\\n\")\n",
        "    for i, idx in enumerate(misclassified_idx[:max_examples]):\n",
        "        original_idx = idx_combined[idx]\n",
        "        print(f\"[Example {i+1}]\")\n",
        "        print(f\"Text:\\n{X_raw[original_idx][:500]}...\")  # print first 500 chars\n",
        "        print(f\"Actual   : {class_names[y_test[idx]]}\")\n",
        "        print(f\"Predicted: {class_names[y_pred[idx]]}\\n\")"
      ],
      "metadata": {
        "id": "vuPR_oSoNfDu"
      },
      "execution_count": 31,
      "outputs": []
    },
    {
      "cell_type": "markdown",
      "source": [
        "## Conclusão\n",
        "\n",
        "Com base nos experimentos, observamos que o desbalanceamento de classes afeta negativamente a capacidade do modelo em identificar corretamente a classe minoritária. Métricas como recall e F1-score para a classe minoritária caem significativamente. A matriz de confusão também mostra uma tendência do modelo a prever majoritariamente a classe mais frequente.\n",
        "\n",
        "Possíveis soluções incluem:\n",
        "- Reamostragem (oversampling/undersampling)\n",
        "- Uso de algoritmos que lidam melhor com desbalanceamento (e.g., XGBoost com `scale_pos_weight`)\n",
        "- Aplicação de penalidades diferentes para erros nas classes\n",
        "\n",
        "Este experimento mostra a importância de tratar o desbalanceamento em tarefas de PLN.\n"
      ],
      "metadata": {
        "id": "OabvEDAvNkr_"
      }
    },
    {
      "cell_type": "code",
      "source": [
        "!pip install imbalanced-learn --quiet"
      ],
      "metadata": {
        "id": "5WtYYrjrNy8e"
      },
      "execution_count": 32,
      "outputs": []
    },
    {
      "cell_type": "code",
      "source": [
        "from imblearn.over_sampling import SMOTE\n",
        "from sklearn.naive_bayes import MultinomialNB\n",
        "from sklearn.metrics import classification_report, confusion_matrix\n",
        "import matplotlib.pyplot as plt\n",
        "import seaborn as sns\n",
        "\n",
        "def train_with_smote_and_evaluate(X_train, y_train, X_test, y_test, class_names=None, model=None, random_state=42):\n",
        "    \"\"\"\n",
        "    Applies SMOTE to balance the training data, trains a classifier, and evaluates the performance.\n",
        "\n",
        "    Args:\n",
        "        X_train (array-like): Training feature matrix (before SMOTE).\n",
        "        y_train (array-like): Training target labels (before SMOTE).\n",
        "        X_test (array-like): Test feature matrix.\n",
        "        y_test (array-like): Test target labels.\n",
        "        class_names (list of str, optional): Class names for classification report and confusion matrix.\n",
        "        model (sklearn classifier, optional): Classifier to be trained. Defaults to MultinomialNB.\n",
        "        random_state (int): Seed for reproducibility.\n",
        "\n",
        "    Returns:\n",
        "        model: Trained classifier.\n",
        "        y_pred (np.ndarray): Predictions for the test set.\n",
        "    \"\"\"\n",
        "    # Default model if none is provided\n",
        "    if model is None:\n",
        "        model = MultinomialNB()\n",
        "\n",
        "    # Apply SMOTE\n",
        "    smote = SMOTE(random_state=random_state)\n",
        "    X_train_sm, y_train_sm = smote.fit_resample(X_train, y_train)\n",
        "\n",
        "    # Train model\n",
        "    model.fit(X_train_sm, y_train_sm)\n",
        "\n",
        "    # Predict on test data\n",
        "    y_pred = model.predict(X_test)\n",
        "\n",
        "    # Print classification report\n",
        "    print(\"=== Classification Report After SMOTE ===\")\n",
        "    print(classification_report(y_test, y_pred, target_names=class_names))\n",
        "\n",
        "    # Plot confusion matrix\n",
        "    cm = confusion_matrix(y_test, y_pred)\n",
        "    plt.figure(figsize=(6, 5))\n",
        "    sns.heatmap(cm, annot=True, fmt='d', cmap='Oranges',\n",
        "                xticklabels=class_names, yticklabels=class_names)\n",
        "    plt.title('Confusion Matrix - After SMOTE')\n",
        "    plt.xlabel('Predicted')\n",
        "    plt.ylabel('True')\n",
        "    plt.tight_layout()\n",
        "    plt.show()\n",
        "\n",
        "    return model, y_pred"
      ],
      "metadata": {
        "id": "jM2TYmOBO_O2"
      },
      "execution_count": 33,
      "outputs": []
    },
    {
      "cell_type": "code",
      "source": [
        "model_smote, y_pred_smote = train_with_smote_and_evaluate(\n",
        "    X_train, y_train,\n",
        "    X_test, y_test,\n",
        "    class_names=newsgroups.target_names\n",
        ")"
      ],
      "metadata": {
        "colab": {
          "base_uri": "https://localhost:8080/",
          "height": 681
        },
        "id": "ezp7StciPMUx",
        "outputId": "24087e3f-31b9-4e9f-c24e-9f3cb02804bf"
      },
      "execution_count": 34,
      "outputs": [
        {
          "output_type": "stream",
          "name": "stdout",
          "text": [
            "=== Classification Report After SMOTE ===\n",
            "                    precision    recall  f1-score   support\n",
            "\n",
            "         sci.space       1.00      1.00      1.00       116\n",
            "talk.politics.misc       1.00      1.00      1.00        15\n",
            "\n",
            "          accuracy                           1.00       131\n",
            "         macro avg       1.00      1.00      1.00       131\n",
            "      weighted avg       1.00      1.00      1.00       131\n",
            "\n"
          ]
        },
        {
          "output_type": "display_data",
          "data": {
            "text/plain": [
              "<Figure size 600x500 with 2 Axes>"
            ],
            "image/png": "[encoded data removed]"
          },
          "metadata": {}
        }
      ]
    },
    {
      "cell_type": "code",
      "source": [
        "from sklearn.linear_model import LogisticRegression\n",
        "\n",
        "def train_logistic_regression_with_class_weight(X_train, y_train, X_test, y_test, class_names=None):\n",
        "    \"\"\"\n",
        "    Trains a Logistic Regression classifier using class_weight='balanced' and evaluates it.\n",
        "\n",
        "    Args:\n",
        "        X_train (array-like): Feature matrix for training.\n",
        "        y_train (array-like): Target labels for training.\n",
        "        X_test (array-like): Feature matrix for testing.\n",
        "        y_test (array-like): Target labels for testing.\n",
        "        class_names (list, optional): Names of the target classes.\n",
        "\n",
        "    Returns:\n",
        "        model: Trained LogisticRegression model.\n",
        "        y_pred: Predictions on the test set.\n",
        "    \"\"\"\n",
        "    # Create and train the model\n",
        "    model = LogisticRegression(class_weight='balanced', max_iter=1000)\n",
        "    model.fit(X_train, y_train)\n",
        "\n",
        "    # Predict\n",
        "    y_pred = model.predict(X_test)\n",
        "\n",
        "    # Print classification report\n",
        "    print(\"=== Classification Report: Logistic Regression with Balanced Class Weight ===\")\n",
        "    print(classification_report(y_test, y_pred, target_names=class_names))\n",
        "\n",
        "    # Plot confusion matrix\n",
        "    cm = confusion_matrix(y_test, y_pred)\n",
        "    plt.figure(figsize=(6, 5))\n",
        "    sns.heatmap(cm, annot=True, fmt='d', cmap='Greens',\n",
        "                xticklabels=class_names, yticklabels=class_names)\n",
        "    plt.title('Confusion Matrix - Logistic Regression (Balanced)')\n",
        "    plt.xlabel('Predicted')\n",
        "    plt.ylabel('True')\n",
        "    plt.tight_layout()\n",
        "    plt.show()\n",
        "\n",
        "    return model, y_pred"
      ],
      "metadata": {
        "id": "K48IB8R1N3fH"
      },
      "execution_count": 35,
      "outputs": []
    },
    {
      "cell_type": "markdown",
      "source": [
        "## Comparação dos Resultados\n",
        "\n",
        "| Método                         | Precisão Classe 0 | Precisão Classe 1 | F1-Score Classe 0 | F1-Score Classe 1 |\n",
        "|-------------------------------|-------------------|-------------------|-------------------|-------------------|\n",
        "| Modelo original (NB)          | 0.89              | 0.00              | 0.94              | 0.00              |\n",
        "| SMOTE + Naive Bayes           | 1.00              | 1.00              | 1.00              | 1.00              |\n",
        "| LogisticRegression balanceado | 0.91              | 0.71              | 0.94              | 0.59              |\n",
        "\n",
        "Os resultados mostram que tanto o uso do SMOTE quanto o `class_weight='balanced'` ajudam o modelo a melhorar a identificação da classe minoritária. O modelo original tendia a ignorar essa classe. O Logistic Regression com balanceamento automático geralmente apresenta performance mais estável sem aumentar falsos positivos excessivamente.\n",
        "\n",
        "É importante considerar o contexto da aplicação para escolher o melhor trade-off entre precisão e recall."
      ],
      "metadata": {
        "id": "g7UYDqW4N5tD"
      }
    }
  ]
}